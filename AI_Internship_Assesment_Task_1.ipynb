{
 "cells": [
  {
   "cell_type": "markdown",
   "id": "7450d2de-fcfd-4fec-bc24-dd41721387f1",
   "metadata": {},
   "source": [
    "1. Write a Python program using list comprehension to filter out numbers divisible by both 5 and 7\n",
    "from the list [12, 24, 35, 70, 88, 120, 155] and then sort the remaining numbers in descending order."
   ]
  },
  {
   "cell_type": "code",
   "execution_count": 14,
   "id": "b87c1541-f944-4c36-8f46-75293a81c45f",
   "metadata": {},
   "outputs": [
    {
     "name": "stdout",
     "output_type": "stream",
     "text": [
      "The numbers that are divisible by 5 and 7 are : \n",
      "35\n",
      "70\n",
      "\n",
      "The filtered and sorted list is: [155, 120, 88, 24, 12]\n"
     ]
    }
   ],
   "source": [
    "numbers = [12, 24, 35, 70, 88, 120, 155]\n",
    "\n",
    "print(\"The numbers that are divisible by 5 and 7 are : \")\n",
    "\n",
    "for i in numbers:\n",
    "    if (i%5==0) and (i%7==0):\n",
    "        print(i)\n",
    "\n",
    "filtered_numbers = [num for num in numbers if not (num % 5 == 0 and num % 7 == 0)]\n",
    "\n",
    "# Sorting the remaining numbers in descending order\n",
    "sorted_numbers = sorted(filtered_numbers, reverse=True)\n",
    "\n",
    "print(\"\\nThe filtered and sorted list is:\", sorted_numbers)"
   ]
  },
  {
   "cell_type": "markdown",
   "id": "cb3539dc-958a-4408-a9b1-7d09cb84c902",
   "metadata": {},
   "source": [
    "--------------------------------------------------------------------------------------------------------------------------------------\n",
    "2. Create a Python program using list comprehension to remove elements at prime indices from the\n",
    "list [12, 24, 35, 70, 88, 120, 155, 200, 301, 405]."
   ]
  },
  {
   "cell_type": "code",
   "execution_count": 16,
   "id": "b97975d9-cfeb-4398-8ae9-94bfdc35f283",
   "metadata": {},
   "outputs": [
    {
     "name": "stdout",
     "output_type": "stream",
     "text": [
      "The list after removing elements at prime indices is: [12, 24, 88, 155, 301, 405]\n"
     ]
    }
   ],
   "source": [
    "# Function to check if a number is prime\n",
    "def is_prime(n):\n",
    "    if n <= 1:\n",
    "        return False\n",
    "    if n == 2:\n",
    "        return True\n",
    "    for i in range(2, int(n**0.5) + 1):\n",
    "        if n % i == 0:\n",
    "            return False\n",
    "    return True\n",
    "\n",
    "# Original list\n",
    "numbers = [12, 24, 35, 70, 88, 120, 155, 200, 301, 405]\n",
    "\n",
    "# List comprehension to remove elements at prime indices\n",
    "filtered_numbers = [num for i, num in enumerate(numbers) if not is_prime(i)]\n",
    "\n",
    "print(\"The list after removing elements at prime indices is:\", filtered_numbers)"
   ]
  },
  {
   "cell_type": "markdown",
   "id": "c32182bc-e874-4168-9eba-7bdea747daf2",
   "metadata": {},
   "source": [
    "---------------------------------------------------------------------------------------------------------------------------------\n",
    "3. Generate a 3x5x8 3D array filled with random integers between 1 and 100 using list\n",
    "comprehension."
   ]
  },
  {
   "cell_type": "code",
   "execution_count": 18,
   "id": "4b59bf84-47cc-4d6a-aec6-95c5efed194a",
   "metadata": {},
   "outputs": [
    {
     "name": "stdout",
     "output_type": "stream",
     "text": [
      "[97, 18, 47, 88, 29, 35, 67, 50]\n",
      "[95, 91, 3, 55, 7, 27, 3, 21]\n",
      "[84, 9, 73, 80, 13, 79, 37, 50]\n",
      "[13, 12, 22, 35, 89, 76, 23, 50]\n",
      "[97, 63, 52, 94, 10, 80, 71, 67]\n",
      "\n",
      "[76, 58, 84, 86, 59, 28, 58, 36]\n",
      "[95, 63, 96, 61, 87, 44, 98, 90]\n",
      "[96, 88, 32, 19, 86, 42, 53, 89]\n",
      "[66, 62, 96, 75, 94, 88, 54, 30]\n",
      "[17, 19, 26, 37, 35, 36, 1, 76]\n",
      "\n",
      "[92, 74, 78, 89, 47, 39, 57, 82]\n",
      "[60, 29, 65, 12, 31, 23, 74, 24]\n",
      "[13, 4, 40, 64, 57, 59, 64, 74]\n",
      "[85, 1, 46, 13, 9, 45, 60, 6]\n",
      "[50, 53, 51, 89, 21, 66, 77, 7]\n",
      "\n"
     ]
    }
   ],
   "source": [
    "import random\n",
    "\n",
    "# Generate a 3x5x8 3D array with random integers between 1 and 100\n",
    "array_3d = [[[random.randint(1, 100) for num in range(8)] for num in range(5)] for num in range(3)]\n",
    "\n",
    "# Print the 3D array\n",
    "for layer in array_3d:\n",
    "    for row in layer:\n",
    "        print(row)\n",
    "    print()  # Adding a blank line between layers "
   ]
  },
  {
   "cell_type": "markdown",
   "id": "3d3163a9-b2db-4415-ba6f-a6035a94342a",
   "metadata": {},
   "source": [
    "---------------------------------------------------------------------------------------------------------------------------\n",
    "4. Write a Python program to remove elements at the 0th, 4th, and 5th positions from the list [12, 24,\n",
    "35, 70, 88, 120, 155] using a loop and list comprehension."
   ]
  },
  {
   "cell_type": "code",
   "execution_count": 19,
   "id": "aba05d21-a4b2-4fbc-b840-fd54f7e443a5",
   "metadata": {},
   "outputs": [
    {
     "name": "stdout",
     "output_type": "stream",
     "text": [
      "The list after removing elements at 0th, 4th, and 5th positions is: [24, 35, 70, 155]\n"
     ]
    }
   ],
   "source": [
    "numbers = [12, 24, 35, 70, 88, 120, 155]\n",
    "\n",
    "# Positions to remove\n",
    "positions_to_remove = [0, 4, 5]\n",
    "\n",
    "# List comprehension to remove elements at specified positions\n",
    "filtered_numbers = [num for i, num in enumerate(numbers) if i not in positions_to_remove]\n",
    "\n",
    "print(\"The list after removing elements at 0th, 4th, and 5th positions is:\", filtered_numbers)"
   ]
  },
  {
   "cell_type": "markdown",
   "id": "b128fd54-3209-4c4d-ab4f-01dece998882",
   "metadata": {},
   "source": [
    "---------------------------------------------------------------------------------------------------------------------------------\n",
    "5. Create a Python program to remove all instances of the number 24 from the list [12, 24, 35, 24,\n",
    "88, 120, 155] and then double the remaining elements using list comprehension."
   ]
  },
  {
   "cell_type": "code",
   "execution_count": 21,
   "id": "6537181f-7eba-4539-801d-1f027ed810a8",
   "metadata": {},
   "outputs": [
    {
     "name": "stdout",
     "output_type": "stream",
     "text": [
      "The list after removing 24 and doubling the remaining elements is: [24, 70, 176, 240, 310]\n"
     ]
    }
   ],
   "source": [
    "numbers = [12, 24, 35, 24, 88, 120, 155]\n",
    "\n",
    "# List comprehension to remove all instances of 24 and double the remaining elements\n",
    "processed_numbers = [num * 2 for num in numbers if num != 24]\n",
    "\n",
    "print(\"The list after removing 24 and doubling the remaining elements is:\", processed_numbers)\n"
   ]
  },
  {
   "cell_type": "markdown",
   "id": "16b4f0e3-cfad-4201-a1c9-660aa9578abd",
   "metadata": {},
   "source": [
    "------------------------------------------------------------------------------------------------------------------------------------\n",
    "6. Given two lists [1, 3, 6, 78, 35, 55] and [12, 24, 35, 24, 88, 120, 155], write a program to find their\n",
    "intersection, sort it in ascending order, and remove any duplicates."
   ]
  },
  {
   "cell_type": "code",
   "execution_count": 22,
   "id": "adc996a0-b774-495a-a75c-370fa235927a",
   "metadata": {},
   "outputs": [
    {
     "name": "stdout",
     "output_type": "stream",
     "text": [
      "The sorted intersection of the two lists without duplicates is: [35]\n"
     ]
    }
   ],
   "source": [
    "list1 = [1, 3, 6, 78, 35, 55]\n",
    "list2 = [12, 24, 35, 24, 88, 120, 155]\n",
    "\n",
    "# Find intersection and remove duplicates using set\n",
    "intersection = set(list1) & set(list2)\n",
    "\n",
    "# Convert to a sorted list\n",
    "sorted_intersection = sorted(intersection)\n",
    "\n",
    "print(\"The sorted intersection of the two lists without duplicates is:\", sorted_intersection)"
   ]
  },
  {
   "cell_type": "markdown",
   "id": "009ad198-8298-4dd1-bc85-45ecd61bedcc",
   "metadata": {},
   "source": [
    "-------------------------------------------------------------------------------------------------------------------------------------\n",
    "7. Write a Python program to remove duplicate values from the list [12, 24, 35, 24, 88, 120, 155, 88,\n",
    "120, 155] while preserving the original order, and then reverse the list."
   ]
  },
  {
   "cell_type": "code",
   "execution_count": 23,
   "id": "8569f9f8-abda-46a3-8ee0-dd2b63dadccc",
   "metadata": {},
   "outputs": [
    {
     "name": "stdout",
     "output_type": "stream",
     "text": [
      "The list after removing duplicates, preserving order, and reversing is: [155, 120, 88, 35, 24, 12]\n"
     ]
    }
   ],
   "source": [
    "numbers = [12, 24, 35, 24, 88, 120, 155, 88, 120, 155]\n",
    "\n",
    "# Function to remove duplicates.\n",
    "def remove_duplicates_preserve_order(lst):\n",
    "    seen = set()\n",
    "    result = []\n",
    "    for item in lst:\n",
    "        if item not in seen:\n",
    "            seen.add(item)\n",
    "            result.append(item)\n",
    "    return result\n",
    "\n",
    "# Remove duplicates while preserving order\n",
    "unique_numbers = remove_duplicates_preserve_order(numbers)\n",
    "\n",
    "# Reverse the list\n",
    "reversed_unique_numbers = unique_numbers[::-1]\n",
    "\n",
    "print(\"The list after removing duplicates, preserving order, and reversing is:\", reversed_unique_numbers)\n"
   ]
  },
  {
   "cell_type": "markdown",
   "id": "806f68b1-40ef-484f-aa39-ad2e56d54b72",
   "metadata": {},
   "source": [
    "---------------------------------------------------------------------------------------------------------------------------------------\n",
    "8. Define a class `Person` and two subclasses `Male` and `Female`. Each subclass should have a\n",
    "method `getGender` that prints 'Male' for the `Male` class and 'Female' for the `Female` class.\n",
    "Create a list of `Person` objects and filter out only the males using list comprehension."
   ]
  },
  {
   "cell_type": "code",
   "execution_count": 24,
   "id": "fd748eb3-9f2d-4833-9349-ce0d5f29a318",
   "metadata": {},
   "outputs": [
    {
     "name": "stdout",
     "output_type": "stream",
     "text": [
      "Filtered list of males:\n",
      "Male\n",
      "Male\n",
      "Male\n"
     ]
    }
   ],
   "source": [
    "# Person class\n",
    "class Person:\n",
    "    def getGender(self):\n",
    "        pass\n",
    "\n",
    "# Male subclass\n",
    "class Male(Person):\n",
    "    def getGender(self):\n",
    "        return \"Male\"\n",
    "\n",
    "# Female subclass\n",
    "class Female(Person):\n",
    "    def getGender(self):\n",
    "        return \"Female\"\n",
    "\n",
    "# list of Person objects\n",
    "people = [Male(), Female(), Male(), Female(), Male()]\n",
    "\n",
    "# Filter out only the males using list comprehension\n",
    "males = [person for person in people if person.getGender() == \"Male\"]\n",
    "\n",
    "print(\"Filtered list of males:\")\n",
    "for male in males:\n",
    "    print(male.getGender())\n"
   ]
  },
  {
   "cell_type": "markdown",
   "id": "22e7a540-1471-4fd5-b3c0-03ed2f74d1cf",
   "metadata": {},
   "source": [
    "-----------------------------------------------------------------------------------------------------------------------------------\n",
    "9. Create a Python program that counts and prints the frequency of each character in a given string\n",
    "input from the console, ignoring spaces and punctuation."
   ]
  },
  {
   "cell_type": "code",
   "execution_count": 26,
   "id": "d60f3fec-2f4d-4711-afd5-09c2ed8bb779",
   "metadata": {},
   "outputs": [
    {
     "name": "stdin",
     "output_type": "stream",
     "text": [
      "Enter a string:  My name is shahid ullah.\n"
     ]
    },
    {
     "name": "stdout",
     "output_type": "stream",
     "text": [
      "Character frequencies (ignoring spaces and punctuation):\n",
      "m: 2\n",
      "y: 1\n",
      "n: 1\n",
      "a: 3\n",
      "e: 1\n",
      "i: 2\n",
      "s: 2\n",
      "h: 3\n",
      "d: 1\n",
      "u: 1\n",
      "l: 2\n"
     ]
    }
   ],
   "source": [
    "import string\n",
    "\n",
    "# Function to count character frequencies\n",
    "def count_character_frequencies(input_string):\n",
    "    # A dictionary to store character frequencies\n",
    "    frequencies = {}\n",
    "    \n",
    "    # Iterate through each character in the string\n",
    "    for char in input_string:\n",
    "        # Ignore spaces and punctuation\n",
    "        if char not in string.whitespace and char not in string.punctuation:\n",
    "            # Convert character to lowercase to count case-insensitively\n",
    "            char = char.lower()\n",
    "            # Update the frequency count\n",
    "            if char in frequencies:\n",
    "                frequencies[char] += 1\n",
    "            else:\n",
    "                frequencies[char] = 1\n",
    "    \n",
    "    return frequencies\n",
    "\n",
    "# Get input from the console\n",
    "input_string = input(\"Enter a string: \")\n",
    "\n",
    "# Get the character frequencies\n",
    "frequencies = count_character_frequencies(input_string)\n",
    "\n",
    "# Print the character frequencies\n",
    "print(\"Character frequencies (ignoring spaces and punctuation):\")\n",
    "for char, count in frequencies.items():\n",
    "    print(f\"{char}: {count}\")\n"
   ]
  },
  {
   "cell_type": "markdown",
   "id": "b92f3435-7b93-4d06-9638-691f9dcc0242",
   "metadata": {},
   "source": [
    "----------------------------------------------------------------------------------------------------------------------------------\n",
    "10. Write a Python program that accepts a string from the console, reverses the string, and checks if\n",
    "the reversed string is a palindrome."
   ]
  },
  {
   "cell_type": "code",
   "execution_count": 30,
   "id": "6a7d8aea-a305-41e3-b346-01bd9efcc4f3",
   "metadata": {},
   "outputs": [
    {
     "name": "stdin",
     "output_type": "stream",
     "text": [
      "Enter a string:  is si\n"
     ]
    },
    {
     "name": "stdout",
     "output_type": "stream",
     "text": [
      "The string is a palindrome.\n"
     ]
    }
   ],
   "source": [
    "# Function to check if a string is a palindrome\n",
    "def is_palindrome(s):\n",
    "    # Remove spaces and convert to lowercase for case-insensitive comparison\n",
    "    cleaned_string = ''.join(c.lower() for c in s if c.isalnum())\n",
    "    \n",
    "    # Reverse the cleaned string\n",
    "    reversed_string = cleaned_string[::-1]\n",
    "    \n",
    "    # Check if the cleaned string is equal to the reversed string\n",
    "    return cleaned_string == reversed_string\n",
    "\n",
    "# Get input from the console\n",
    "input_string = input(\"Enter a string: \")\n",
    "\n",
    "# Check if the input string is a palindrome\n",
    "if is_palindrome(input_string):\n",
    "    print(\"The string is a palindrome.\")\n",
    "else:\n",
    "    print(\"The string is not a palindrome.\")\n"
   ]
  },
  {
   "cell_type": "markdown",
   "id": "5d98ee63-4180-49b9-92f5-4558c19d9450",
   "metadata": {},
   "source": [
    "----------------------------------------------------------------------------------------------------------------------------------\n",
    "11. Write a Python program to generate a 2D array of size 5x5 with random values between 1 and\n",
    "50 and then replace all even numbers with -1."
   ]
  },
  {
   "cell_type": "code",
   "execution_count": 31,
   "id": "5eefff62-59f6-4fe1-90e1-cf81011f7816",
   "metadata": {},
   "outputs": [
    {
     "name": "stdout",
     "output_type": "stream",
     "text": [
      "2D array:\n",
      "[10, 5, 14, 6, 36]\n",
      "[42, 42, 20, 19, 28]\n",
      "[40, 39, 29, 17, 20]\n",
      "[46, 38, 22, 1, 12]\n",
      "[32, 24, 46, 10, 14]\n",
      "\n",
      "Modified 2D array (even numbers replaced with -1):\n",
      "[-1, 5, -1, -1, -1]\n",
      "[-1, -1, -1, 19, -1]\n",
      "[-1, 39, 29, 17, -1]\n",
      "[-1, -1, -1, 1, -1]\n",
      "[-1, -1, -1, -1, -1]\n"
     ]
    }
   ],
   "source": [
    "import random\n",
    "\n",
    "# Generate a 2D array of size 5x5 with random values between 1 and 50\n",
    "array_2d = [[random.randint(1, 50) for num in range(5)] for num in range(5)]\n",
    "\n",
    "# Print the original 2D array\n",
    "print(\"2D array:\")\n",
    "for row in array_2d:\n",
    "    print(row)\n",
    "\n",
    "# Replace all even numbers with -1 using list comprehension\n",
    "modified_array_2d = [[-1 if num % 2 == 0 else num for num in row] for row in array_2d]\n",
    "\n",
    "# Print the modified 2D array\n",
    "print(\"\\nModified 2D array (even numbers replaced with -1):\")\n",
    "for row in modified_array_2d:\n",
    "    print(row)\n"
   ]
  },
  {
   "cell_type": "markdown",
   "id": "234f8c00-5b2a-4de2-8381-61e7259de299",
   "metadata": {},
   "source": [
    "-----------------------------------------------------------------------------------------------------------------------------------\n",
    "12. Create a Python function that takes a string and returns a dictionary where the keys are\n",
    "characters and the values are the count of their occurrences, excluding spaces and\n",
    "case-insensitively."
   ]
  },
  {
   "cell_type": "code",
   "execution_count": 32,
   "id": "cfb558ec-5316-41b9-bd49-602641c9969d",
   "metadata": {},
   "outputs": [
    {
     "name": "stdout",
     "output_type": "stream",
     "text": [
      "{'h': 1, 'e': 1, 'l': 3, 'o': 2, 'w': 1, 'r': 1, 'd': 1}\n"
     ]
    }
   ],
   "source": [
    "def count_character_occurrences(s):\n",
    "    # A dictionary to store character counts\n",
    "    char_count = {}\n",
    "    \n",
    "    # Iterate over each character in the string\n",
    "    for char in s:\n",
    "        # Ignore spaces\n",
    "        if char != ' ':\n",
    "            # Convert character to lowercase.\n",
    "            char = char.lower()\n",
    "            \n",
    "            # Update the count in the dictionary\n",
    "            if char in char_count:\n",
    "                char_count[char] += 1\n",
    "            else:\n",
    "                char_count[char] = 1\n",
    "    \n",
    "    return char_count\n",
    "\n",
    "input_string = \"Hello World\"\n",
    "result = count_character_occurrences(input_string)\n",
    "print(result)"
   ]
  },
  {
   "cell_type": "markdown",
   "id": "bff81e7c-a06d-4845-9a9a-95f02b07c613",
   "metadata": {},
   "source": [
    "----------------------------------------------------------------------------------------------------------------------------------\n",
    "13. Write a Python program to find the longest common prefix string amongst an array of strings. If\n",
    "there is no common prefix, return an empty string."
   ]
  },
  {
   "cell_type": "code",
   "execution_count": 34,
   "id": "86490f4b-0068-4a54-a1c6-a8f58de7017e",
   "metadata": {},
   "outputs": [
    {
     "name": "stdout",
     "output_type": "stream",
     "text": [
      "Longest common prefix: fl\n",
      "Longest common prefix: \n"
     ]
    }
   ],
   "source": [
    "def longest_common_prefix(strs):\n",
    "    if not strs:\n",
    "        return \"\"\n",
    "    \n",
    "    # Sort the array, so the smallest and largest strings are at the ends\n",
    "    strs.sort()\n",
    "    \n",
    "    # Comparing characters of the first and last strings\n",
    "    first = strs[0]\n",
    "    last = strs[-1]\n",
    "    i = 0\n",
    "    \n",
    "    # Find the common prefix between the first and last strings\n",
    "    while i < len(first) and i < len(last) and first[i] == last[i]:\n",
    "        i += 1\n",
    "    \n",
    "    # The common prefix will be the substring from the beginning to the matched length\n",
    "    return first[:i]\n",
    "\n",
    "# Having a Prefix.\n",
    "strs = [\"flower\", \"flow\", \"flight\"]\n",
    "result = longest_common_prefix(strs)\n",
    "print(\"Longest common prefix:\", result)\n",
    "\n",
    "# Having no Prefix\n",
    "strs_no_prefix = [\"dog\", \"racecar\", \"car\"]\n",
    "result_no_prefix = longest_common_prefix(strs_no_prefix)\n",
    "print(\"Longest common prefix:\", result_no_prefix)\n"
   ]
  },
  {
   "cell_type": "markdown",
   "id": "ca21b5e9-26ed-4c4a-bf4e-a10fdde59b4a",
   "metadata": {},
   "source": [
    "---------------------------------------------------------------------------------------------------------------------------------------\n",
    "14. Given a list of numbers, write a Python program to find the contiguous subarray which has the\n",
    "largest sum and return its sum."
   ]
  },
  {
   "cell_type": "code",
   "execution_count": 38,
   "id": "c94117c2-21c6-4107-a9b0-9e4c8f4a677d",
   "metadata": {},
   "outputs": [
    {
     "name": "stdout",
     "output_type": "stream",
     "text": [
      "The sum of the largest contiguous subarray is: 6\n"
     ]
    }
   ],
   "source": [
    "def max_subarray_sum(nums):\n",
    "    # Initialize variables\n",
    "    max_current = max_global = nums[0]\n",
    "    \n",
    "    # Iterate through the list starting from the second element\n",
    "    for num in nums[1:]:\n",
    "        # Update the maximum sum of the current subarray\n",
    "        max_current = max(num, max_current + num)\n",
    "\n",
    "        # Update the global maximum sum if the current subarray sum is greater\n",
    "        if max_current > max_global:\n",
    "            max_global = max_current\n",
    "    \n",
    "    return max_global\n",
    "\n",
    "nums = [-2, 1, -3, 4, -1, 2, 1, -5, 4]\n",
    "result = max_subarray_sum(nums)\n",
    "\n",
    "print(\"The sum of the largest contiguous subarray is:\", result)"
   ]
  },
  {
   "cell_type": "markdown",
   "id": "aa4fc944-d151-417c-adb2-1035089b1b8a",
   "metadata": {},
   "source": [
    "------------------------------------------------------------------------------------------------------------------------------------\n",
    "15. Create a Python function that accepts a list of numbers and returns the list with each element\n",
    "squared and filtered to only include results greater than 50."
   ]
  },
  {
   "cell_type": "code",
   "execution_count": 40,
   "id": "b08b3511-9d6e-478c-a80f-03e49105b2e1",
   "metadata": {},
   "outputs": [
    {
     "name": "stdout",
     "output_type": "stream",
     "text": [
      "Squared and filtered list: [100, 64]\n"
     ]
    }
   ],
   "source": [
    "def square_and_filter(nums):\n",
    "    # Square each element and filter out those greater than 50\n",
    "    return [num ** 2 for num in nums if num ** 2 > 50]\n",
    "\n",
    "numbers = [2, 5, 7, 10, 3, 8]\n",
    "result = square_and_filter(numbers)\n",
    "\n",
    "print(\"Squared and filtered list:\", result)"
   ]
  },
  {
   "cell_type": "markdown",
   "id": "724fd314-9d6e-4013-aca3-5ecc7db2209a",
   "metadata": {},
   "source": [
    "--------------------------------------------------------------------------------------------------------------------------------------\n",
    "16. Write a Python program to merge two sorted lists into a new sorted list without using any built-in\n",
    "sort functions."
   ]
  },
  {
   "cell_type": "code",
   "execution_count": 42,
   "id": "11943c8c-700a-4111-a78a-2f7805403adf",
   "metadata": {},
   "outputs": [
    {
     "name": "stdout",
     "output_type": "stream",
     "text": [
      "Merged sorted list: [1, 2, 3, 4, 5, 6, 7, 8, 9]\n"
     ]
    }
   ],
   "source": [
    "def merge_sorted_lists(list1, list2):\n",
    "    # Initialize pointers for list1 and list2\n",
    "    i, j = 0, 0\n",
    "    # Initialize the merged list\n",
    "    merged_list = []\n",
    "    \n",
    "    # Traverse both lists and merge them in sorted order\n",
    "    while i < len(list1) and j < len(list2):\n",
    "        if list1[i] < list2[j]:\n",
    "            merged_list.append(list1[i])\n",
    "            i += 1\n",
    "        else:\n",
    "            merged_list.append(list2[j])\n",
    "            j += 1\n",
    "    \n",
    "    # Append any remaining elements from list1\n",
    "    while i < len(list1):\n",
    "        merged_list.append(list1[i])\n",
    "        i += 1\n",
    "    \n",
    "    # Append any remaining elements from list2\n",
    "    while j < len(list2):\n",
    "        merged_list.append(list2[j])\n",
    "        j += 1\n",
    "    \n",
    "    return merged_list\n",
    "\n",
    "list1 = [1, 3, 5, 7,9]\n",
    "list2 = [2, 4, 6, 8]\n",
    "result = merge_sorted_lists(list1, list2)\n",
    "\n",
    "print(\"Merged sorted list:\", result)"
   ]
  },
  {
   "cell_type": "markdown",
   "id": "4acc12e8-2321-4e1c-beb1-df316e2f6a0f",
   "metadata": {},
   "source": [
    "------------------------------------------------------------------------------------------------------------------------------------\n",
    "17. Given a list of integers, write a Python program to find all unique triplets in the list which gives\n",
    "the sum of zero."
   ]
  },
  {
   "cell_type": "code",
   "execution_count": 43,
   "id": "749697d6-e4b9-468a-b892-43373edd4131",
   "metadata": {},
   "outputs": [
    {
     "name": "stdout",
     "output_type": "stream",
     "text": [
      "Unique triplets that sum to zero: [[-1, -1, 2], [-1, 0, 1]]\n"
     ]
    }
   ],
   "source": [
    "def find_triplets(nums):\n",
    "    nums.sort()  # Sorting the list.\n",
    "    triplets = []\n",
    "    n = len(nums)\n",
    "    \n",
    "    for i in range(n - 2):\n",
    "        # Avoid duplicates for the first element of the triplet\n",
    "        if i > 0 and nums[i] == nums[i - 1]:\n",
    "            continue\n",
    "        \n",
    "        left, right = i + 1, n - 1\n",
    "        while left < right:\n",
    "            current_sum = nums[i] + nums[left] + nums[right]\n",
    "            \n",
    "            if current_sum == 0:\n",
    "                triplets.append([nums[i], nums[left], nums[right]])\n",
    "                \n",
    "                # Avoid duplicates for the second and third elements of the triplet\n",
    "                while left < right and nums[left] == nums[left + 1]:\n",
    "                    left += 1\n",
    "                \n",
    "                while left < right and nums[right] == nums[right - 1]:\n",
    "                    right -= 1\n",
    "                \n",
    "                left += 1\n",
    "                right -= 1\n",
    "            elif current_sum < 0:\n",
    "                left += 1\n",
    "            else:\n",
    "                right -= 1\n",
    "                \n",
    "    return triplets\n",
    "\n",
    "nums = [-1, 0, 1, 2, -1, -4]\n",
    "result = find_triplets(nums)\n",
    "\n",
    "print(\"Unique triplets that sum to zero:\", result)"
   ]
  },
  {
   "cell_type": "markdown",
   "id": "38ca3ec1-05f2-439c-8ca4-3aafa14e7e94",
   "metadata": {},
   "source": [
    "---------------------------------------------------------------------------------------------------------------------------------------\n",
    "18. Write a Python program to generate a list of the first N Fibonacci numbers, where N is provided\n",
    "by the user."
   ]
  },
  {
   "cell_type": "code",
   "execution_count": 44,
   "id": "bc848ca6-a1d1-4277-9f56-dfd756d299c7",
   "metadata": {},
   "outputs": [
    {
     "name": "stdin",
     "output_type": "stream",
     "text": [
      "Enter the number of Fibonacci numbers to generate:  17\n"
     ]
    },
    {
     "name": "stdout",
     "output_type": "stream",
     "text": [
      "The first 17 Fibonacci numbers are: [0, 1, 1, 2, 3, 5, 8, 13, 21, 34, 55, 89, 144, 233, 377, 610, 987]\n"
     ]
    }
   ],
   "source": [
    "def generate_fibonacci(n):\n",
    "    # Initializing the list with the first two Fibonacci numbers\n",
    "    fibonacci_list = [0, 1]\n",
    "    \n",
    "    # Generate the next Fibonacci numbers until the list contains N elements\n",
    "    while len(fibonacci_list) < n:\n",
    "        next_fib = fibonacci_list[-1] + fibonacci_list[-2]\n",
    "        fibonacci_list.append(next_fib)\n",
    "    \n",
    "    # If N is less than 2, adjust the list to contain exactly N elements\n",
    "    return fibonacci_list[:n]\n",
    "\n",
    "# Input from the user\n",
    "n = int(input(\"Enter the number of Fibonacci numbers to generate: \"))\n",
    "\n",
    "# Generate the Fibonacci list\n",
    "fibonacci_list = generate_fibonacci(n)\n",
    "\n",
    "print(f\"The first {n} Fibonacci numbers are: {fibonacci_list}\")"
   ]
  },
  {
   "cell_type": "markdown",
   "id": "0965ba29-5499-4c71-ab9d-9462420b00a1",
   "metadata": {},
   "source": [
    "-------------------------------------------------------------------------------------------------------------------------------------\n",
    "19. Create a Python function that takes a string and returns True if it is an anagram of another string\n",
    "provided as a second argument, otherwise returns False."
   ]
  },
  {
   "cell_type": "code",
   "execution_count": 45,
   "id": "b682c29c-16df-4ba4-9eef-b2802a106b3b",
   "metadata": {},
   "outputs": [
    {
     "name": "stdout",
     "output_type": "stream",
     "text": [
      "Are 'listen' and 'silent' anagrams? True\n",
      "Are 'hello' and 'world' anagrams? False\n"
     ]
    }
   ],
   "source": [
    "def are_anagrams(str1, str2):\n",
    "    # Removing spaces and converting to lowercase.\n",
    "    str1 = str1.replace(\" \", \"\").lower()\n",
    "    str2 = str2.replace(\" \", \"\").lower()\n",
    "    \n",
    "    # Checks if both strings are equal\n",
    "    return sorted(str1) == sorted(str2)\n",
    "\n",
    "string1 = \"listen\"\n",
    "string2 = \"silent\"\n",
    "result = are_anagrams(string1, string2)\n",
    "print(f\"Are '{string1}' and '{string2}' anagrams? {result}\")\n",
    "\n",
    "string1 = \"hello\"\n",
    "string2 = \"world\"\n",
    "result = are_anagrams(string1, string2)\n",
    "print(f\"Are '{string1}' and '{string2}' anagrams? {result}\")\n"
   ]
  },
  {
   "cell_type": "markdown",
   "id": "59da60e5-1962-460f-a174-8ea51119057d",
   "metadata": {},
   "source": [
    "---------------------------------------------------------------------------------------------------------------------------------\n",
    "20. Write a Python program to generate all permutations of a given string."
   ]
  },
  {
   "cell_type": "code",
   "execution_count": 46,
   "id": "378edeae-59e0-43b1-95ef-60263c2e87f7",
   "metadata": {},
   "outputs": [
    {
     "name": "stdout",
     "output_type": "stream",
     "text": [
      "All permutations of 'abc':\n",
      "abc\n",
      "acb\n",
      "bac\n",
      "bca\n",
      "cab\n",
      "cba\n"
     ]
    }
   ],
   "source": [
    "import itertools\n",
    "\n",
    "def generate_permutations(s):\n",
    "    # Generating all permutations of the string\n",
    "    permutations = itertools.permutations(s)\n",
    "    \n",
    "    # Converting permutations to a list of strings\n",
    "    permutation_list = [''.join(p) for p in permutations]\n",
    "    \n",
    "    return permutation_list\n",
    "\n",
    "input_string = \"abc\"\n",
    "result = generate_permutations(input_string)\n",
    "\n",
    "print(f\"All permutations of '{input_string}':\")\n",
    "for perm in result:\n",
    "    print(perm)"
   ]
  },
  {
   "cell_type": "markdown",
   "id": "03db3d89-7012-4e6d-acae-ab972b8ec064",
   "metadata": {},
   "source": [
    "-------------------------------------------------------------------------------------------------------------------------------------\n",
    "21. Given a matrix of size NxM, write a Python program to rotate the matrix 90 degrees clockwise."
   ]
  },
  {
   "cell_type": "code",
   "execution_count": 51,
   "id": "f8c439cf-a737-45cf-bd19-937b853c4d49",
   "metadata": {},
   "outputs": [
    {
     "name": "stdout",
     "output_type": "stream",
     "text": [
      "13 9 5 1 \n",
      "14 10 6 2 \n",
      "15 11 7 3 \n",
      "16 12 8 4 \n"
     ]
    }
   ],
   "source": [
    "N = 4\n",
    "\n",
    "# Function to rotate the matrix 90 degree clockwise\n",
    "def rotate90Clockwise(arr) :\n",
    "\tglobal N\n",
    "\t\n",
    "\tfor j in range(N) :\n",
    "\t\tfor i in range(N - 1, -1, -1) :\n",
    "\t\t\tprint(arr[i][j], end = \" \")\n",
    "\t\tprint()\n",
    "\t\t\t \n",
    "arr = [ [ 1, 2, 3, 4 ],\n",
    "\t\t[ 5, 6, 7, 8 ],\n",
    "\t\t[ 9, 10, 11, 12 ],\n",
    "\t\t[ 13, 14, 15, 16 ] ]\n",
    "rotate90Clockwise(arr);"
   ]
  },
  {
   "cell_type": "markdown",
   "id": "97b697ba-0204-435f-9c5e-c266ea88c77d",
   "metadata": {},
   "source": [
    "-----------------------------------------------------------------------------------------------------------------------------------\n",
    "22. Create a Python function that checks if a given number is a palindrome without converting it to a\n",
    "string."
   ]
  },
  {
   "cell_type": "code",
   "execution_count": 52,
   "id": "58c06529-e021-4b2f-a9c4-3cd34688090a",
   "metadata": {},
   "outputs": [
    {
     "name": "stdout",
     "output_type": "stream",
     "text": [
      "Is 12321 a palindrome? True\n",
      "Is 12345 a palindrome? False\n"
     ]
    }
   ],
   "source": [
    "def is_palindrome_number(num):\n",
    "    # Negative numbers are not palindromes\n",
    "    if num < 0:\n",
    "        return False\n",
    "\n",
    "    original_num = num\n",
    "    reversed_num = 0\n",
    "    \n",
    "    # Reversing the number\n",
    "    while num > 0:\n",
    "        remainder = num % 10\n",
    "        reversed_num = reversed_num * 10 + remainder\n",
    "        num //= 10\n",
    "    \n",
    "    # Checking if the original number is equal to the reversed number\n",
    "    return original_num == reversed_num\n",
    "\n",
    "number = 12321\n",
    "result = is_palindrome_number(number)\n",
    "print(f\"Is {number} a palindrome? {result}\")\n",
    "\n",
    "number = 12345\n",
    "result = is_palindrome_number(number)\n",
    "print(f\"Is {number} a palindrome? {result}\")\n"
   ]
  },
  {
   "cell_type": "markdown",
   "id": "cb117a13-642b-4306-ae09-3174b56a07b0",
   "metadata": {},
   "source": [
    "--------------------------------------------------------------------------------------------------------------------------------------\n",
    "23. Write a Python program to find the first non-repeating character in a string and return its index. If\n",
    "it doesn't exist, return -1."
   ]
  },
  {
   "cell_type": "code",
   "execution_count": 53,
   "id": "58f08e24-2773-4161-9f31-82b310e9aff0",
   "metadata": {},
   "outputs": [
    {
     "name": "stdout",
     "output_type": "stream",
     "text": [
      "The index of the first non-repeating character is: 1\n",
      "The index of the first non-repeating character is: -1\n"
     ]
    }
   ],
   "source": [
    "def first_non_repeating_character(s):\n",
    "    # A dictionary to store the frequency of each character\n",
    "    char_count = {}\n",
    "    \n",
    "    # Counting the frequency of each character\n",
    "    for char in s:\n",
    "        if char in char_count:\n",
    "            char_count[char] += 1\n",
    "        else:\n",
    "            char_count[char] = 1\n",
    "    \n",
    "    # Finding the index of the first non-repeating character\n",
    "    for index, char in enumerate(s):\n",
    "        if char_count[char] == 1:\n",
    "            return index\n",
    "    \n",
    "    # Return -1 if no non-repeating character is found\n",
    "    return -1\n",
    "\n",
    "input_string = \"swiss\"\n",
    "result = first_non_repeating_character(input_string)\n",
    "print(f\"The index of the first non-repeating character is: {result}\")\n",
    "\n",
    "input_string = \"aabbcc\"\n",
    "result = first_non_repeating_character(input_string)\n",
    "print(f\"The index of the first non-repeating character is: {result}\")\n"
   ]
  },
  {
   "cell_type": "markdown",
   "id": "d8ba0429-c16f-45dc-a01b-2bcb3b6317da",
   "metadata": {},
   "source": [
    "------------------------------------------------------------------------------------------------------------------------------------\n",
    "24. Given two strings, write a Python program to find the minimum window in the first string which\n",
    "will contain all the characters in the second string."
   ]
  },
  {
   "cell_type": "code",
   "execution_count": 54,
   "id": "00404fe3-c7fa-4d9c-9627-ac441b8ea339",
   "metadata": {},
   "outputs": [
    {
     "name": "stdout",
     "output_type": "stream",
     "text": [
      "The minimum window in 'ADOBECODEBANC' which contains all characters of 'ABC' is: 'BANC'\n",
      "The minimum window in 'AABBC' which contains all characters of 'ABC' is: 'ABBC'\n"
     ]
    }
   ],
   "source": [
    "from collections import Counter, defaultdict\n",
    "\n",
    "def min_window(s1, s2):\n",
    "    if not s1 or not s2:\n",
    "        return \"\"\n",
    "    \n",
    "    # A dictionary to count the characters in s2\n",
    "    char_count_s2 = Counter(s2)\n",
    "    required = len(char_count_s2)\n",
    "    \n",
    "    # Initializing pointers and variables\n",
    "    left, right = 0, 0\n",
    "    formed = 0\n",
    "    window_counts = defaultdict(int)\n",
    "    min_len = float('inf')\n",
    "    min_window = \"\"\n",
    "    \n",
    "    # Start sliding the window\n",
    "    while right < len(s1):\n",
    "        # Add the character from the right pointer to the window\n",
    "        char = s1[right]\n",
    "        window_counts[char] += 1\n",
    "        \n",
    "        # Check if the current character helps in forming the required substring\n",
    "        if char in char_count_s2 and window_counts[char] == char_count_s2[char]:\n",
    "            formed += 1\n",
    "        \n",
    "        while left <= right and formed == required:\n",
    "            char = s1[left]\n",
    "            \n",
    "            # Update the minimum window\n",
    "            if right - left + 1 < min_len:\n",
    "                min_len = right - left + 1\n",
    "                min_window = s1[left:right + 1]\n",
    "            \n",
    "            # Remove the character at the left pointer from the window\n",
    "            window_counts[char] -= 1\n",
    "            if char in char_count_s2 and window_counts[char] < char_count_s2[char]:\n",
    "                formed -= 1\n",
    "            \n",
    "            left += 1\n",
    "        \n",
    "        # Move the right pointer to expand the window\n",
    "        right += 1\n",
    "    \n",
    "    return min_window\n",
    "\n",
    "s1 = \"ADOBECODEBANC\"\n",
    "s2 = \"ABC\"\n",
    "result = min_window(s1, s2)\n",
    "print(f\"The minimum window in '{s1}' which contains all characters of '{s2}' is: '{result}'\")\n",
    "\n",
    "s1 = \"AABBC\"\n",
    "s2 = \"ABC\"\n",
    "result = min_window(s1, s2)\n",
    "print(f\"The minimum window in '{s1}' which contains all characters of '{s2}' is: '{result}'\")\n"
   ]
  },
  {
   "cell_type": "markdown",
   "id": "557cb255-2cff-4d09-adbf-0b34fd1b12c5",
   "metadata": {},
   "source": [
    "-------------------------------------------------------------------------------------------------------------------------------\n",
    "25. Write a Python program to solve the Tower of Hanoi problem using recursion."
   ]
  },
  {
   "cell_type": "code",
   "execution_count": 57,
   "id": "be32de32-c60e-4f69-9575-e2a70b3d582e",
   "metadata": {},
   "outputs": [
    {
     "name": "stdout",
     "output_type": "stream",
     "text": [
      "Move disk 1 from A to B\n",
      "Move disk 2 from A to C\n",
      "Move disk 1 from B to C\n",
      "Move disk 3 from A to B\n",
      "Move disk 1 from C to A\n",
      "Move disk 2 from C to B\n",
      "Move disk 1 from A to B\n",
      "Move disk 4 from A to C\n",
      "Move disk 1 from B to C\n",
      "Move disk 2 from B to A\n",
      "Move disk 1 from C to A\n",
      "Move disk 3 from B to C\n",
      "Move disk 1 from A to B\n",
      "Move disk 2 from A to C\n",
      "Move disk 1 from B to C\n"
     ]
    }
   ],
   "source": [
    "def tower_of_hanoi(n, source, auxiliary, target):\n",
    "    if n == 1:\n",
    "        print(f\"Move disk 1 from {source} to {target}\")\n",
    "        return\n",
    "    \n",
    "    # Move n-1 disks from source to auxiliary, so they are out of the way\n",
    "    tower_of_hanoi(n - 1, source, target, auxiliary)\n",
    "    \n",
    "    # Move the nth disk from source to target\n",
    "    print(f\"Move disk {n} from {source} to {target}\")\n",
    "    \n",
    "    # Move the n-1 disks from auxiliary to target\n",
    "    tower_of_hanoi(n - 1, auxiliary, source, target)\n",
    "\n",
    "n = 4  # Number of disks\n",
    "tower_of_hanoi(n, 'A', 'B', 'C')\n"
   ]
  },
  {
   "cell_type": "markdown",
   "id": "088e4f19-f7e9-4bda-9e07-48ca8a643f94",
   "metadata": {},
   "source": [
    "-------------------------------------------------------------------------------------------------------------------------------------\n",
    "26. Create a Python function to convert a given Roman numeral to an integer."
   ]
  },
  {
   "cell_type": "code",
   "execution_count": 58,
   "id": "2feb6879-b0ac-4655-9ce4-b90fa76f13ab",
   "metadata": {},
   "outputs": [
    {
     "name": "stdout",
     "output_type": "stream",
     "text": [
      "The integer value of Roman numeral 'MCMXCIV' is: 1994\n",
      "The integer value of Roman numeral 'LVIII' is: 58\n"
     ]
    }
   ],
   "source": [
    "def roman_to_integer(roman):\n",
    "    # Define a dictionary to map Roman numerals to their integer values\n",
    "    roman_values = {\n",
    "        'I': 1,\n",
    "        'V': 5,\n",
    "        'X': 10,\n",
    "        'L': 50,\n",
    "        'C': 100,\n",
    "        'D': 500,\n",
    "        'M': 1000\n",
    "    }\n",
    "    \n",
    "    # Initializing the total integer value\n",
    "    total = 0\n",
    "    prev_value = 0\n",
    "    \n",
    "    # Iterate through the Roman numeral from left to right\n",
    "    for char in roman:\n",
    "        value = roman_values[char]\n",
    "        \n",
    "        if prev_value < value:\n",
    "            total += value - 2 * prev_value\n",
    "        else:\n",
    "            total += value\n",
    "        \n",
    "        prev_value = value\n",
    "    \n",
    "    return total\n",
    "\n",
    "roman_numeral = \"MCMXCIV\"  # 1994\n",
    "result = roman_to_integer(roman_numeral)\n",
    "print(f\"The integer value of Roman numeral '{roman_numeral}' is: {result}\")\n",
    "\n",
    "roman_numeral = \"LVIII\"  # 58\n",
    "result = roman_to_integer(roman_numeral)\n",
    "print(f\"The integer value of Roman numeral '{roman_numeral}' is: {result}\")\n"
   ]
  },
  {
   "cell_type": "markdown",
   "id": "9659042c-5b56-4c72-9d3c-0eee756d22e0",
   "metadata": {},
   "source": [
    "---------------------------------------------------------------------------------------------------------------------------------\n",
    "27. Write a Python program to implement a simple calculator that can perform basic arithmetic\n",
    "operations (+, -, *, /) on two numbers provided by the user."
   ]
  },
  {
   "cell_type": "code",
   "execution_count": 60,
   "id": "09770195-bd9c-4649-a8e7-dbad164f1844",
   "metadata": {},
   "outputs": [
    {
     "name": "stdin",
     "output_type": "stream",
     "text": [
      "Enter the first number:  4\n",
      "Enter the second number:  5\n"
     ]
    },
    {
     "name": "stdout",
     "output_type": "stream",
     "text": [
      "Select operation:\n",
      "1. Addition (+)\n",
      "2. Subtraction (-)\n",
      "3. Multiplication (*)\n",
      "4. Division (/)\n"
     ]
    },
    {
     "name": "stdin",
     "output_type": "stream",
     "text": [
      "Enter the operation (+, -, *, /):  +\n"
     ]
    },
    {
     "name": "stdout",
     "output_type": "stream",
     "text": [
      "The result of 4.0 + 5.0 is: 9.0\n"
     ]
    }
   ],
   "source": [
    "def simple_calculator():\n",
    "    # Get user input for the two numbers and the operation\n",
    "    try:\n",
    "        num1 = float(input(\"Enter the first number: \"))\n",
    "        num2 = float(input(\"Enter the second number: \"))\n",
    "        \n",
    "        print(\"Select operation:\")\n",
    "        print(\"1. Addition (+)\")\n",
    "        print(\"2. Subtraction (-)\")\n",
    "        print(\"3. Multiplication (*)\")\n",
    "        print(\"4. Division (/)\")\n",
    "\n",
    "        operation = input(\"Enter the operation (+, -, *, /): \")\n",
    "\n",
    "        # Perform the chosen operation\n",
    "        if operation == '+':\n",
    "            result = num1 + num2\n",
    "            print(f\"The result of {num1} + {num2} is: {result}\")\n",
    "        elif operation == '-':\n",
    "            result = num1 - num2\n",
    "            print(f\"The result of {num1} - {num2} is: {result}\")\n",
    "        elif operation == '*':\n",
    "            result = num1 * num2\n",
    "            print(f\"The result of {num1} * {num2} is: {result}\")\n",
    "        elif operation == '/':\n",
    "            # Handle division by zero\n",
    "            if num2 == 0:\n",
    "                print(\"Error: Division by zero is not allowed.\")\n",
    "            else:\n",
    "                result = num1 / num2\n",
    "                print(f\"The result of {num1} / {num2} is {result}\")\n",
    "        else:\n",
    "            print(\"Invalid operation. Please enter one of the following: +, -, *, /\")\n",
    "    \n",
    "    except ValueError:\n",
    "        print(\"Invalid input. Please enter numeric values for the numbers.\")\n",
    "\n",
    "simple_calculator()"
   ]
  },
  {
   "cell_type": "markdown",
   "id": "9bb798c8-3cb1-4e39-8a4e-0bf6e5f337dc",
   "metadata": {},
   "source": [
    "--------------------------------------------------------------------------------------------------------------------------------------\n",
    "28. Given a binary tree, write a Python program to perform in-order, pre-order, and post-order traversals."
   ]
  },
  {
   "cell_type": "code",
   "execution_count": 62,
   "id": "9263f318-49c0-4c95-81f2-8046c7555c2f",
   "metadata": {},
   "outputs": [
    {
     "name": "stdout",
     "output_type": "stream",
     "text": [
      "In-order traversal:\n",
      "4 2 5 1 3 \n",
      "Pre-order traversal:\n",
      "1 2 4 5 3 \n",
      "Post-order traversal:\n",
      "4 5 2 3 1 "
     ]
    }
   ],
   "source": [
    "class TreeNode:\n",
    "    def __init__(self, value=0, left=None, right=None):\n",
    "        self.value = value\n",
    "        self.left = left\n",
    "        self.right = right\n",
    "\n",
    "def in_order_traversal(root):\n",
    "    if root:\n",
    "        in_order_traversal(root.left)  # Visit left subtree\n",
    "        print(root.value, end=' ')    # Visit node\n",
    "        in_order_traversal(root.right) # Visit right subtree\n",
    "\n",
    "def pre_order_traversal(root):\n",
    "    if root:\n",
    "        print(root.value, end=' ')    # Visit node\n",
    "        pre_order_traversal(root.left)  # Visit left subtree\n",
    "        pre_order_traversal(root.right) # Visit right subtree\n",
    "\n",
    "def post_order_traversal(root):\n",
    "    if root:\n",
    "        post_order_traversal(root.left)  # Visit left subtree\n",
    "        post_order_traversal(root.right) # Visit right subtree\n",
    "        print(root.value, end=' ')    # Visit node\n",
    "\n",
    "if __name__ == \"__main__\":\n",
    "    # Create a binary tree\n",
    "    #       1\n",
    "    #      / \\\n",
    "    #     2   3\n",
    "    #    / \\\n",
    "    #   4   5\n",
    "    root = TreeNode(1)\n",
    "    root.left = TreeNode(2)\n",
    "    root.right = TreeNode(3)\n",
    "    root.left.left = TreeNode(4)\n",
    "    root.left.right = TreeNode(5)\n",
    "\n",
    "    print(\"In-order traversal:\")\n",
    "    in_order_traversal(root)  # Output: 4 2 5 1 3\n",
    "    print(\"\\nPre-order traversal:\")\n",
    "    pre_order_traversal(root)  # Output: 1 2 4 5 3\n",
    "    print(\"\\nPost-order traversal:\")\n",
    "    post_order_traversal(root)  # Output: 4 5 2 3 1\n"
   ]
  },
  {
   "cell_type": "markdown",
   "id": "f8e0e75a-334f-4d0a-8448-18f1dbf593cf",
   "metadata": {},
   "source": [
    "--------------------------------------------------------------------------------------------------------------------------------------\n",
    "29. Write a Python program to find the maximum depth of a binary tree."
   ]
  },
  {
   "cell_type": "code",
   "execution_count": 63,
   "id": "12b47f2f-b989-4a0b-b223-6d616b3c169b",
   "metadata": {},
   "outputs": [
    {
     "name": "stdout",
     "output_type": "stream",
     "text": [
      "The maximum depth of the binary tree is: 3\n"
     ]
    }
   ],
   "source": [
    "class TreeNode:\n",
    "    def __init__(self, value=0, left=None, right=None):\n",
    "        self.value = value\n",
    "        self.left = left\n",
    "        self.right = right\n",
    "\n",
    "def max_depth(root):\n",
    "    # If the tree is empty, return depth of 0\n",
    "    if root is None:\n",
    "        return 0\n",
    "    \n",
    "    # Recursively find the depth of the left and right subtrees\n",
    "    left_depth = max_depth(root.left)\n",
    "    right_depth = max_depth(root.right)\n",
    "\n",
    "    return max(left_depth, right_depth) + 1\n",
    "\n",
    "if __name__ == \"__main__\":\n",
    "    # Create a binary tree\n",
    "    #       1\n",
    "    #      / \\\n",
    "    #     2   3\n",
    "    #    / \\\n",
    "    #   4   5\n",
    "    root = TreeNode(1)\n",
    "    root.left = TreeNode(2)\n",
    "    root.right = TreeNode(3)\n",
    "    root.left.left = TreeNode(4)\n",
    "    root.left.right = TreeNode(5)\n",
    "\n",
    "    depth = max_depth(root)\n",
    "    print(f\"The maximum depth of the binary tree is: {depth}\")"
   ]
  },
  {
   "cell_type": "markdown",
   "id": "ad6cd8a3-5085-4cf2-be7d-ac3d2f1a9064",
   "metadata": {},
   "source": [
    "-------------------------------------------------------------------------------------------------------------------------------------\n",
    "30. Create a Python function that takes a list of integers and a target number and returns the indices\n",
    "of the two numbers that add up to the target."
   ]
  },
  {
   "cell_type": "code",
   "execution_count": 64,
   "id": "922c2711-6570-4cf1-9abb-73bb9e36b1f4",
   "metadata": {},
   "outputs": [
    {
     "name": "stdout",
     "output_type": "stream",
     "text": [
      "The indices of the two numbers that add up to 9 are: [0, 1]\n",
      "The indices of the two numbers that add up to 6 are: [1, 2]\n",
      "The indices of the two numbers that add up to 10 are: []\n"
     ]
    }
   ],
   "source": [
    "def two_sum(nums, target):\n",
    "    # A Dictionary to store the indices of numbers we've seen\n",
    "    index_map = {}\n",
    "\n",
    "    for index, num in enumerate(nums):\n",
    "        complement = target - num\n",
    "        \n",
    "        # Check if the complement number exists in the dictionary\n",
    "        if complement in index_map:\n",
    "            return [index_map[complement], index]\n",
    "        \n",
    "        index_map[num] = index\n",
    "\n",
    "    return []\n",
    "\n",
    "nums = [2, 7, 11, 15]\n",
    "target = 9\n",
    "result = two_sum(nums, target)\n",
    "print(f\"The indices of the two numbers that add up to {target} are: {result}\")\n",
    "\n",
    "nums = [3, 2, 4]\n",
    "target = 6\n",
    "result = two_sum(nums, target)\n",
    "print(f\"The indices of the two numbers that add up to {target} are: {result}\")\n",
    "\n",
    "nums = [1, 2, 3, 4]\n",
    "target = 10\n",
    "result = two_sum(nums, target)\n",
    "print(f\"The indices of the two numbers that add up to {target} are: {result}\")\n"
   ]
  },
  {
   "cell_type": "markdown",
   "id": "d3d43443-912e-4863-b013-f5cf4f4eee10",
   "metadata": {},
   "source": [
    "-----------------------------------------------------------------------------------------------------------------------------------\n",
    "31. Write a Python program to implement a stack with push, pop, and min functions, where the min\n",
    "function returns the minimum element in the stack in O(1) time."
   ]
  },
  {
   "cell_type": "code",
   "execution_count": 65,
   "id": "3ae79397-3dec-4007-83c2-25c4893127eb",
   "metadata": {},
   "outputs": [
    {
     "name": "stdout",
     "output_type": "stream",
     "text": [
      "Current minimum: 3\n",
      "Current minimum: 1\n",
      "Current minimum: 2\n",
      "Current minimum: 3\n",
      "Current minimum: 0\n"
     ]
    }
   ],
   "source": [
    "class MinStack:\n",
    "    def __init__(self):\n",
    "        self.stack = []        # Main stack to store the elements\n",
    "        self.min_stack = []    # Auxiliary stack to store the minimum elements\n",
    "\n",
    "    def push(self, x):\n",
    "        self.stack.append(x)\n",
    "        # Push the element onto the min stack if it's smaller than or equal to the current minimum\n",
    "        if not self.min_stack or x <= self.min_stack[-1]:\n",
    "            self.min_stack.append(x)\n",
    "\n",
    "    def pop(self):\n",
    "        if not self.stack:\n",
    "            return None\n",
    "        # Pop the element from the main stack\n",
    "        top = self.stack.pop()\n",
    "        # Pop the element from the min stack if it's the same as the top of the main stack\n",
    "        if top == self.min_stack[-1]:\n",
    "            self.min_stack.pop()\n",
    "        return top\n",
    "\n",
    "    def top(self):\n",
    "        if not self.stack:\n",
    "            return None\n",
    "        return self.stack[-1]\n",
    "\n",
    "    def get_min(self):\n",
    "        if not self.min_stack:\n",
    "            return None\n",
    "        return self.min_stack[-1]\n",
    "\n",
    "min_stack = MinStack()\n",
    "min_stack.push(3)\n",
    "min_stack.push(5)\n",
    "print(f\"Current minimum: {min_stack.get_min()}\")  # Output: 3\n",
    "\n",
    "min_stack.push(2)\n",
    "min_stack.push(1)\n",
    "print(f\"Current minimum: {min_stack.get_min()}\")  # Output: 1\n",
    "\n",
    "min_stack.pop()\n",
    "print(f\"Current minimum: {min_stack.get_min()}\")  # Output: 2\n",
    "\n",
    "min_stack.pop()\n",
    "print(f\"Current minimum: {min_stack.get_min()}\")  # Output: 3\n",
    "\n",
    "min_stack.push(0)\n",
    "print(f\"Current minimum: {min_stack.get_min()}\")  # Output: 0\n"
   ]
  },
  {
   "cell_type": "markdown",
   "id": "d4ba5f63-d040-4c51-b98a-9e28e06ea651",
   "metadata": {},
   "source": [
    "-------------------------------------------------------------------------------------------------------------------------------------\n",
    "32. Given a string containing just the characters '(', ')', '{', '}', '[' and ']', write a Python program to\n",
    "check if the input string is valid."
   ]
  },
  {
   "cell_type": "code",
   "execution_count": 1,
   "id": "e7166df3-7a2b-452e-b28e-f62818ff188b",
   "metadata": {},
   "outputs": [
    {
     "name": "stdout",
     "output_type": "stream",
     "text": [
      "True\n",
      "False\n"
     ]
    }
   ],
   "source": [
    "def is_valid(s: str) -> bool:\n",
    "    bracket_map = {')': '(', '}': '{', ']': '['}\n",
    "    \n",
    "    stack = []\n",
    "\n",
    "    for char in s:\n",
    "        if char in bracket_map:\n",
    "            top_element = stack.pop() if stack else '#'\n",
    "            \n",
    "            if bracket_map[char] != top_element:\n",
    "                return False\n",
    "        else:\n",
    "            stack.append(char)\n",
    "\n",
    "    return not stack\n",
    "\n",
    "input_string = \"{[()]}\"\n",
    "print(is_valid(input_string))  # True\n",
    "\n",
    "input_string = \"{[(])}\"\n",
    "print(is_valid(input_string))  # False\n"
   ]
  },
  {
   "cell_type": "markdown",
   "id": "4609ff00-526f-4147-a7a5-c0348afa0766",
   "metadata": {},
   "source": [
    "------------------------------------------------------------------------------------------------------------------------------------------\n",
    "33. Write a Python program to generate a random password with a given length. The password\n",
    "should contain a mix of uppercase and lowercase letters, numbers, and special characters."
   ]
  },
  {
   "cell_type": "code",
   "execution_count": 3,
   "id": "84934591-4df4-4d79-af4d-6692c656cb32",
   "metadata": {},
   "outputs": [
    {
     "name": "stdout",
     "output_type": "stream",
     "text": [
      "Generated password: R\\k|BK#4=Y\n"
     ]
    }
   ],
   "source": [
    "import random\n",
    "import string\n",
    "\n",
    "def generate_password(length: int) -> str:\n",
    "    all_characters = string.ascii_letters + string.digits + string.punctuation\n",
    "\n",
    "    password = [\n",
    "        random.choice(string.ascii_lowercase),\n",
    "        random.choice(string.ascii_uppercase),\n",
    "        random.choice(string.digits),\n",
    "        random.choice(string.punctuation)\n",
    "    ]\n",
    "    \n",
    "    if length > 4:\n",
    "        password += random.choices(all_characters, k=length-4)\n",
    "    \n",
    "    random.shuffle(password)\n",
    "\n",
    "    return ''.join(password)\n",
    "\n",
    "password_length = 10\n",
    "password = generate_password(password_length)\n",
    "print(f\"Generated password: {password}\")\n"
   ]
  },
  {
   "cell_type": "markdown",
   "id": "c75ddca9-52f2-4f6d-a611-3ae283c7f665",
   "metadata": {},
   "source": [
    "----------------------------------------------------------------------------------------------------------------------------------------\n",
    "34. Create a Python function that simulates the roll of a six-sided die N times and returns the\n",
    "frequency of each outcome."
   ]
  },
  {
   "cell_type": "code",
   "execution_count": 4,
   "id": "02613bd3-84cd-415b-9d13-2aa09fee29fb",
   "metadata": {},
   "outputs": [
    {
     "name": "stdout",
     "output_type": "stream",
     "text": [
      "Frequencies of each outcome after rolling the die 1000 times:\n",
      "3: 181\n",
      "4: 163\n",
      "5: 158\n",
      "6: 164\n",
      "2: 176\n",
      "1: 158\n"
     ]
    }
   ],
   "source": [
    "import random\n",
    "from collections import defaultdict\n",
    "\n",
    "def roll_die_n_times(n: int) -> dict:\n",
    "    frequency = defaultdict(int)\n",
    "\n",
    "    for _ in range(n):\n",
    "        outcome = random.randint(1, 6)\n",
    "        frequency[outcome] += 1\n",
    "\n",
    "    return dict(frequency)\n",
    "\n",
    "n = 1000\n",
    "frequencies = roll_die_n_times(n)\n",
    "print(f\"Frequencies of each outcome after rolling the die {n} times:\")\n",
    "for outcome, freq in frequencies.items():\n",
    "    print(f\"{outcome}: {freq}\")\n"
   ]
  },
  {
   "cell_type": "markdown",
   "id": "b6d959a8-1e72-4964-bbe5-7fc90a491c94",
   "metadata": {},
   "source": [
    "---------------------------------------------------------------------------------------------------------------------------------------\n",
    "35. Write a Python program to implement a queue using two stacks."
   ]
  },
  {
   "cell_type": "code",
   "execution_count": 5,
   "id": "90fd4e7d-960a-4300-9fe9-61d67f435760",
   "metadata": {},
   "outputs": [
    {
     "name": "stdout",
     "output_type": "stream",
     "text": [
      "1\n",
      "2\n",
      "3\n",
      "4\n"
     ]
    }
   ],
   "source": [
    "class QueueUsingStacks:\n",
    "    def __init__(self):\n",
    "        self.stack1 = []\n",
    "        self.stack2 = []\n",
    "\n",
    "    def enqueue(self, item):\n",
    "        self.stack1.append(item)\n",
    "\n",
    "    def dequeue(self):\n",
    "        if not self.stack2:\n",
    "            while self.stack1:\n",
    "                self.stack2.append(self.stack1.pop())\n",
    "       \n",
    "        if not self.stack2:\n",
    "            raise IndexError(\"Dequeue from an empty queue\")\n",
    "        return self.stack2.pop()\n",
    "\n",
    "queue = QueueUsingStacks()\n",
    "queue.enqueue(1)\n",
    "queue.enqueue(2)\n",
    "queue.enqueue(3)\n",
    "print(queue.dequeue())  # 1\n",
    "print(queue.dequeue())  # 2\n",
    "queue.enqueue(4)\n",
    "print(queue.dequeue())  # 3\n",
    "print(queue.dequeue())  # 4\n"
   ]
  },
  {
   "cell_type": "markdown",
   "id": "6e9280c9-27df-46a1-a2f6-81dd1951db09",
   "metadata": {},
   "source": [
    "---------------------------------------------------------------------------------------------------------------------------------------\n",
    "36. Create a Python function to check if a given string is a valid IP address."
   ]
  },
  {
   "cell_type": "code",
   "execution_count": 6,
   "id": "588679a8-046d-4dcb-90ef-12a0a7bc60e8",
   "metadata": {},
   "outputs": [
    {
     "name": "stdout",
     "output_type": "stream",
     "text": [
      "192.168.1.1 is valid: True\n",
      "255.255.255.255 is valid: True\n",
      "192.168.1.256 is valid: False\n",
      "123.045.067.089 is valid: False\n"
     ]
    }
   ],
   "source": [
    "def is_valid_ip(ip: str) -> bool:\n",
    "    parts = ip.split('.')\n",
    "    \n",
    "    if len(parts) != 4:\n",
    "        return False\n",
    "    \n",
    "    for part in parts:\n",
    "        if not part.isdigit():\n",
    "            return False\n",
    "\n",
    "        num = int(part)\n",
    "\n",
    "        if num < 0 or num > 255:\n",
    "            return False\n",
    "\n",
    "        if part != str(num):\n",
    "            return False\n",
    "    \n",
    "    return True\n",
    "\n",
    "ip_addresses = [\"192.168.1.1\", \"255.255.255.255\", \"192.168.1.256\", \"123.045.067.089\"]\n",
    "for ip in ip_addresses:\n",
    "    print(f\"{ip} is valid: {is_valid_ip(ip)}\")\n"
   ]
  },
  {
   "cell_type": "markdown",
   "id": "42bedc52-221b-4ce9-970f-d723214e410f",
   "metadata": {},
   "source": [
    "------------------------------------------------------------------------------------------------------------------------------------\n",
    "37. Write a Python program to find the length of the longest substring without repeating characters."
   ]
  },
  {
   "cell_type": "code",
   "execution_count": 7,
   "id": "0c2ef05a-0993-4999-9cfe-3773061dee6e",
   "metadata": {},
   "outputs": [
    {
     "name": "stdout",
     "output_type": "stream",
     "text": [
      "Length of the longest substring without repeating characters: 3\n",
      "Length of the longest substring without repeating characters: 1\n",
      "Length of the longest substring without repeating characters: 3\n"
     ]
    }
   ],
   "source": [
    "def length_of_longest_substring(s: str) -> int:\n",
    "    char_index_map = {}\n",
    "    left = 0\n",
    "    max_length = 0\n",
    "\n",
    "    for right, char in enumerate(s):\n",
    "        if char in char_index_map and char_index_map[char] >= left:\n",
    "            left = char_index_map[char] + 1\n",
    "        char_index_map[char] = right\n",
    "        max_length = max(max_length, right - left + 1)\n",
    "\n",
    "    return max_length\n",
    "\n",
    "input_string = \"abcabcbb\"\n",
    "print(f\"Length of the longest substring without repeating characters: {length_of_longest_substring(input_string)}\")\n",
    "\n",
    "input_string = \"bbbbb\"\n",
    "print(f\"Length of the longest substring without repeating characters: {length_of_longest_substring(input_string)}\")\n",
    "\n",
    "input_string = \"pwwkew\"\n",
    "print(f\"Length of the longest substring without repeating characters: {length_of_longest_substring(input_string)}\")\n"
   ]
  },
  {
   "cell_type": "markdown",
   "id": "d55512d6-527f-4e1f-83d2-1d00dcabe300",
   "metadata": {},
   "source": [
    "--------------------------------------------------------------------------------------------------------------------------------------\n",
    "38. Given a string, write a Python program to check if it can be rearranged to form a palindrome."
   ]
  },
  {
   "cell_type": "code",
   "execution_count": 8,
   "id": "4050e906-a760-4218-8a01-27693e9583f3",
   "metadata": {},
   "outputs": [
    {
     "name": "stdout",
     "output_type": "stream",
     "text": [
      "Can 'civic' be rearranged to form a palindrome? True\n",
      "Can 'ivicc' be rearranged to form a palindrome? True\n",
      "Can 'hello' be rearranged to form a palindrome? False\n",
      "Can 'aabbccdde' be rearranged to form a palindrome? True\n"
     ]
    }
   ],
   "source": [
    "from collections import Counter\n",
    "\n",
    "def can_form_palindrome(s: str) -> bool:\n",
    "    char_count = Counter(s)\n",
    "\n",
    "    odd_count = sum(1 for count in char_count.values() if count % 2 != 0)\n",
    "\n",
    "    return odd_count <= 1\n",
    "\n",
    "input_string = \"civic\"\n",
    "print(f\"Can '{input_string}' be rearranged to form a palindrome? {can_form_palindrome(input_string)}\")\n",
    "\n",
    "input_string = \"ivicc\"\n",
    "print(f\"Can '{input_string}' be rearranged to form a palindrome? {can_form_palindrome(input_string)}\")\n",
    "\n",
    "input_string = \"hello\"\n",
    "print(f\"Can '{input_string}' be rearranged to form a palindrome? {can_form_palindrome(input_string)}\")\n",
    "\n",
    "input_string = \"aabbccdde\"\n",
    "print(f\"Can '{input_string}' be rearranged to form a palindrome? {can_form_palindrome(input_string)}\")\n"
   ]
  },
  {
   "cell_type": "markdown",
   "id": "738ea36a-8e8b-42a7-b5f4-e79ccab5f79f",
   "metadata": {},
   "source": [
    "-------------------------------------------------------------------------------------------------------------------------------------\n",
    "39. Create a Python function that generates all possible combinations of a given list of numbers."
   ]
  },
  {
   "cell_type": "code",
   "execution_count": 10,
   "id": "6cbcb71e-06e3-472c-b3e6-1529b8437413",
   "metadata": {},
   "outputs": [
    {
     "name": "stdout",
     "output_type": "stream",
     "text": [
      "All possible combinations of the list:\n",
      "(1,)\n",
      "(2,)\n",
      "(3,)\n",
      "(4,)\n",
      "(1, 2)\n",
      "(1, 3)\n",
      "(1, 4)\n",
      "(2, 3)\n",
      "(2, 4)\n",
      "(3, 4)\n",
      "(1, 2, 3)\n",
      "(1, 2, 4)\n",
      "(1, 3, 4)\n",
      "(2, 3, 4)\n",
      "(1, 2, 3, 4)\n"
     ]
    }
   ],
   "source": [
    "import itertools\n",
    "\n",
    "def generate_combinations(numbers):\n",
    "    all_combinations = []\n",
    "    for r in range(1, len(numbers) + 1):\n",
    "        combinations_r = itertools.combinations(numbers, r)\n",
    "        all_combinations.extend(combinations_r)\n",
    "    return all_combinations\n",
    "\n",
    "numbers = [1, 2, 3, 4]\n",
    "combinations = generate_combinations(numbers)\n",
    "print(\"All possible combinations of the list:\")\n",
    "for combo in combinations:\n",
    "    print(combo)\n"
   ]
  },
  {
   "cell_type": "markdown",
   "id": "c3825312-2e97-498b-93d0-850cfd4e94d5",
   "metadata": {},
   "source": [
    "--------------------------------------------------------------------------------------------------------------------------------------\n",
    "40. Write a Python program to implement the Sieve of Eratosthenes algorithm to find all prime\n",
    "numbers less than a given number."
   ]
  },
  {
   "cell_type": "code",
   "execution_count": 11,
   "id": "721e7ebb-fa8b-4951-8028-5bb8bc69b8c9",
   "metadata": {},
   "outputs": [
    {
     "name": "stdout",
     "output_type": "stream",
     "text": [
      "Prime numbers less than 50: [2, 3, 5, 7, 11, 13, 17, 19, 23, 29, 31, 37, 41, 43, 47]\n"
     ]
    }
   ],
   "source": [
    "def sieve_of_eratosthenes(n):\n",
    "    primes = [True] * n\n",
    "    primes[0] = primes[1] = False  # 0 and 1 are not prime numbers\n",
    "\n",
    "    for i in range(2, int(n**0.5) + 1):\n",
    "        if primes[i]:\n",
    "            for j in range(i*i, n, i):\n",
    "                primes[j] = False\n",
    "\n",
    "    prime_numbers = [i for i, is_prime in enumerate(primes) if is_prime]\n",
    "    return prime_numbers\n",
    "\n",
    "n = 50\n",
    "prime_numbers = sieve_of_eratosthenes(n)\n",
    "print(f\"Prime numbers less than {n}: {prime_numbers}\")\n"
   ]
  },
  {
   "cell_type": "markdown",
   "id": "7a1ae441-f7bf-4680-8b0a-b24477611303",
   "metadata": {},
   "source": [
    "-------------------------------------------------------------------------------------------------------------------------------------\n",
    "41. Create a Python function that takes a list of words and returns the list sorted by the length of the\n",
    "words in ascending order."
   ]
  },
  {
   "cell_type": "code",
   "execution_count": 12,
   "id": "a01b6ae5-902d-462d-8c03-03234901aa8d",
   "metadata": {},
   "outputs": [
    {
     "name": "stdout",
     "output_type": "stream",
     "text": [
      "Words sorted by length: ['fig', 'date', 'apple', 'grape', 'banana', 'cherry', 'elderberry']\n"
     ]
    }
   ],
   "source": [
    "def sort_by_length(words):\n",
    "    return sorted(words, key=len)\n",
    "\n",
    "words = [\"apple\", \"banana\", \"cherry\", \"date\", \"elderberry\", \"fig\", \"grape\"]\n",
    "sorted_words = sort_by_length(words)\n",
    "print(\"Words sorted by length:\", sorted_words)\n"
   ]
  },
  {
   "cell_type": "markdown",
   "id": "03db0a14-7eb8-477b-af0d-56d7921f2d3e",
   "metadata": {},
   "source": [
    "-------------------------------------------------------------------------------------------------------------------------------------\n",
    "42. Write a Python program to perform matrix multiplication for two given matrices."
   ]
  },
  {
   "cell_type": "code",
   "execution_count": 13,
   "id": "4e2d4aaf-64df-494a-97cb-d81e9c838b24",
   "metadata": {},
   "outputs": [
    {
     "name": "stdout",
     "output_type": "stream",
     "text": [
      "Result of matrix multiplication:\n",
      "[58, 64]\n",
      "[139, 154]\n"
     ]
    }
   ],
   "source": [
    "def matrix_multiply(A, B):\n",
    "    rows_A = len(A)\n",
    "    cols_A = len(A[0])\n",
    "    rows_B = len(B)\n",
    "    cols_B = len(B[0])\n",
    "\n",
    "    if cols_A != rows_B:\n",
    "        raise ValueError(\"Number of columns in A must be equal to the number of rows in B\")\n",
    "\n",
    "    result = [[0] * cols_B for _ in range(rows_A)]\n",
    "    \n",
    "    for i in range(rows_A):\n",
    "        for j in range(cols_B):\n",
    "            result[i][j] = sum(A[i][k] * B[k][j] for k in range(cols_A))\n",
    "    \n",
    "    return result\n",
    "\n",
    "A = [\n",
    "    [1, 2, 3],\n",
    "    [4, 5, 6]\n",
    "]\n",
    "\n",
    "B = [\n",
    "    [7, 8],\n",
    "    [9, 10],\n",
    "    [11, 12]\n",
    "]\n",
    "\n",
    "result = matrix_multiply(A, B)\n",
    "print(\"Result of matrix multiplication:\")\n",
    "for row in result:\n",
    "    print(row)\n"
   ]
  },
  {
   "cell_type": "markdown",
   "id": "2045f7bc-ebfc-4903-bcdf-548066f37384",
   "metadata": {},
   "source": [
    "---------------------------------------------------------------------------------------------------------------------------------------\n",
    "43. Create a Python function that finds the smallest missing positive integer in an unsorted list."
   ]
  },
  {
   "cell_type": "code",
   "execution_count": 21,
   "id": "83f6acf4-bb7d-4527-b361-6e7caf9bd568",
   "metadata": {},
   "outputs": [
    {
     "name": "stdout",
     "output_type": "stream",
     "text": [
      "The smallest missing positive integer in the list [-3, 4, -5, -1] is: 2\n"
     ]
    }
   ],
   "source": [
    "def first_missing_positive(nums):\n",
    "    n = len(nums)\n",
    "\n",
    "    for i in range(n):\n",
    "        if nums[i] <= 0 or nums[i] > n:\n",
    "            nums[i] = n + 1\n",
    "\n",
    "    for i in range(n):\n",
    "        num = abs(nums[i])\n",
    "        if num <= n:\n",
    "            nums[num - 1] = -abs(nums[num - 1])\n",
    "    \n",
    "    for i in range(n):\n",
    "        if nums[i] > 0:\n",
    "            return i + 1\n",
    "    \n",
    "    return n + 1\n",
    "\n",
    "nums = [3, 4, -1, 1]\n",
    "missing_positive = first_missing_positive(nums)\n",
    "print(f\"The smallest missing positive integer in the list {nums} is: {missing_positive}\")"
   ]
  },
  {
   "cell_type": "markdown",
   "id": "ef7b60c0-e0f0-4589-bdd5-dcd988387b73",
   "metadata": {},
   "source": [
    "----------------------------------------------------------------------------------------------------------------------------------------\n",
    "44. Write a Python program to implement the binary search algorithm on a sorted list of numbers."
   ]
  },
  {
   "cell_type": "code",
   "execution_count": 22,
   "id": "d6393d41-25cb-40d6-b4d5-dc66c61e670b",
   "metadata": {},
   "outputs": [
    {
     "name": "stdout",
     "output_type": "stream",
     "text": [
      "Index of 7 in the sorted list: 3\n",
      "Index of 4 in the sorted list: -1\n"
     ]
    }
   ],
   "source": [
    "def binary_search(sorted_list, target):\n",
    "    left, right = 0, len(sorted_list) - 1\n",
    "    \n",
    "    while left <= right:\n",
    "        mid = (left + right) // 2\n",
    "        mid_value = sorted_list[mid]\n",
    "        \n",
    "        if mid_value == target:\n",
    "            return mid  \n",
    "        elif mid_value < target:\n",
    "            left = mid + 1 \n",
    "        else:\n",
    "            right = mid - 1  \n",
    "    \n",
    "    return -1  \n",
    "\n",
    "sorted_list = [1, 3, 5, 7, 9, 11, 13, 15, 17, 19]\n",
    "target = 7\n",
    "index = binary_search(sorted_list, target)\n",
    "print(f\"Index of {target} in the sorted list: {index}\")\n",
    "\n",
    "target = 4\n",
    "index = binary_search(sorted_list, target)\n",
    "print(f\"Index of {target} in the sorted list: {index}\")\n"
   ]
  },
  {
   "cell_type": "markdown",
   "id": "c45de0f0-5e75-44d0-bf91-a4c72b15f458",
   "metadata": {},
   "source": [
    "------------------------------------------------------------------------------------------------------------------------------------\n",
    "45. Given a list of numbers, write a Python program to find the second largest number in the list."
   ]
  },
  {
   "cell_type": "code",
   "execution_count": 23,
   "id": "df3e420e-2bb4-4bf6-88ef-064cd8fdd491",
   "metadata": {},
   "outputs": [
    {
     "name": "stdout",
     "output_type": "stream",
     "text": [
      "The second largest number in the list is: 20\n",
      "List must contain at least two numbers\n"
     ]
    }
   ],
   "source": [
    "def find_second_largest(numbers):\n",
    "    if len(numbers) < 2:\n",
    "        raise ValueError(\"List must contain at least two numbers\")\n",
    "\n",
    "    largest = second_largest = float('-inf')\n",
    "    \n",
    "    for num in numbers:\n",
    "        if num > largest:\n",
    "            second_largest = largest\n",
    "            largest = num\n",
    "        elif num > second_largest and num < largest:\n",
    "            second_largest = num\n",
    "    \n",
    "    if second_largest == float('-inf'):\n",
    "        raise ValueError(\"There is no second largest number in the list\")\n",
    "    \n",
    "    return second_largest\n",
    "\n",
    "numbers = [10, 5, 20, 20, 30]\n",
    "print(f\"The second largest number in the list is: {find_second_largest(numbers)}\")\n",
    "\n",
    "numbers = [15]\n",
    "try:\n",
    "    print(f\"The second largest number in the list is: {find_second_largest(numbers)}\")\n",
    "except ValueError as e:\n",
    "    print(e)\n"
   ]
  },
  {
   "cell_type": "markdown",
   "id": "857ffb58-75e3-4fea-8ed5-95793cf6317a",
   "metadata": {},
   "source": [
    "--------------------------------------------------------------------------------------------------------------------------------------\n",
    "46. Create a Python function that takes a string and returns the number of vowels and consonants in\n",
    "it."
   ]
  },
  {
   "cell_type": "code",
   "execution_count": 24,
   "id": "3986f1f5-8420-42c4-93c7-f038018f0565",
   "metadata": {},
   "outputs": [
    {
     "name": "stdout",
     "output_type": "stream",
     "text": [
      "Number of vowels: 3\n",
      "Number of consonants: 7\n"
     ]
    }
   ],
   "source": [
    "def count_vowels_and_consonants(s):\n",
    "    vowels = \"aeiouAEIOU\"\n",
    "    vowel_count = 0\n",
    "    consonant_count = 0\n",
    "\n",
    "    for char in s:\n",
    "        if char.isalpha():  \n",
    "            if char in vowels:\n",
    "                vowel_count += 1\n",
    "            else:\n",
    "                consonant_count += 1\n",
    "\n",
    "    return vowel_count, consonant_count\n",
    "\n",
    "input_string = \"Hello, World!\"\n",
    "vowels, consonants = count_vowels_and_consonants(input_string)\n",
    "print(f\"Number of vowels: {vowels}\")\n",
    "print(f\"Number of consonants: {consonants}\")\n"
   ]
  },
  {
   "cell_type": "markdown",
   "id": "ad324fc3-aa5b-46b7-ac0c-767dd714dbcf",
   "metadata": {},
   "source": [
    "-----------------------------------------------------------------------------------------------------------------------------------------\n",
    "47. Write a Python program to check if a given number is a power of two."
   ]
  },
  {
   "cell_type": "code",
   "execution_count": 25,
   "id": "72c46edb-c69a-4a3b-9088-f0951710564d",
   "metadata": {},
   "outputs": [
    {
     "name": "stdout",
     "output_type": "stream",
     "text": [
      "1 is a power of two: True\n",
      "2 is a power of two: True\n",
      "3 is a power of two: False\n",
      "4 is a power of two: True\n",
      "5 is a power of two: False\n",
      "8 is a power of two: True\n",
      "12 is a power of two: False\n",
      "16 is a power of two: True\n"
     ]
    }
   ],
   "source": [
    "def is_power_of_two(n):\n",
    "    return n > 0 and (n & (n - 1)) == 0\n",
    "\n",
    "numbers = [1, 2, 3, 4, 5, 8, 12, 16]\n",
    "results = {num: is_power_of_two(num) for num in numbers}\n",
    "\n",
    "for num, result in results.items():\n",
    "    print(f\"{num} is a power of two: {result}\")\n"
   ]
  },
  {
   "cell_type": "markdown",
   "id": "6ec09dab-9ea9-4dfa-be2b-f65c8a441d1f",
   "metadata": {},
   "source": [
    "---------------------------------------------------------------------------------------------------------------------------------------\n",
    "48. Create a Python function to reverse the words in a given sentence."
   ]
  },
  {
   "cell_type": "code",
   "execution_count": 26,
   "id": "a66b7f63-db32-4371-855d-1721fb453239",
   "metadata": {},
   "outputs": [
    {
     "name": "stdout",
     "output_type": "stream",
     "text": [
      "Original sentence: 'Hello world this is a test'\n",
      "Reversed sentence: 'test a is this world Hello'\n"
     ]
    }
   ],
   "source": [
    "def reverse_words(sentence):\n",
    "    words = sentence.split()\n",
    "\n",
    "    reversed_words = words[::-1]\n",
    "\n",
    "    reversed_sentence = ' '.join(reversed_words)\n",
    "    \n",
    "    return reversed_sentence\n",
    "\n",
    "sentence = \"Hello world this is a test\"\n",
    "reversed_sentence = reverse_words(sentence)\n",
    "print(f\"Original sentence: '{sentence}'\")\n",
    "print(f\"Reversed sentence: '{reversed_sentence}'\")\n"
   ]
  },
  {
   "cell_type": "markdown",
   "id": "e13a5743-a5b6-4269-b0b0-87f1a208d927",
   "metadata": {},
   "source": [
    "----------------------------------------------------------------------------------------------------------------------------------------\n",
    "49. Write a Python program to calculate the factorial of a number using both iterative and recursive\n",
    "methods."
   ]
  },
  {
   "cell_type": "code",
   "execution_count": 27,
   "id": "22bcc43a-fbdd-4bab-9192-abcab04408d5",
   "metadata": {},
   "outputs": [
    {
     "name": "stdout",
     "output_type": "stream",
     "text": [
      "Factorial of 5 using iterative method: 120\n",
      "Factorial of 5 using recursive method: 120\n",
      "\n",
      "Factorial of 5 using iterative method: 120\n",
      "Factorial of 5 using recursive method: 120\n"
     ]
    }
   ],
   "source": [
    "# Iterative Method\n",
    "def factorial_iterative(n):\n",
    "    if n < 0:\n",
    "        raise ValueError(\"Factorial is not defined for negative numbers\")\n",
    "    \n",
    "    result = 1\n",
    "    for i in range(1, n + 1):\n",
    "        result *= i\n",
    "    return result\n",
    "\n",
    "# Recursive Method\n",
    "def factorial_recursive(n):\n",
    "    if n < 0:\n",
    "        raise ValueError(\"Factorial is not defined for negative numbers\")\n",
    "    if n == 0 or n == 1:\n",
    "        return 1\n",
    "    return n * factorial_recursive(n - 1)\n",
    "\n",
    "number = 5\n",
    "\n",
    "print(f\"Factorial of {number} using iterative method: {factorial_iterative(number)}\")\n",
    "print(f\"Factorial of {number} using recursive method: {factorial_recursive(number)}\")\n",
    "\n",
    "print(f\"\\nFactorial of {number} using iterative method: {factorial_iterative(number)}\")\n",
    "print(f\"Factorial of {number} using recursive method: {factorial_recursive(number)}\")"
   ]
  },
  {
   "cell_type": "markdown",
   "id": "b6624904-a027-40f1-ba6e-75598e8c188b",
   "metadata": {},
   "source": [
    "---------------------------------------------------------------------------------------------------------------------------------------\n",
    "50. Given a list of integers, write a Python program to find the maximum product of two integers inthe list."
   ]
  },
  {
   "cell_type": "code",
   "execution_count": 28,
   "id": "350a47c2-1e19-4635-b40b-8ed1813478b3",
   "metadata": {},
   "outputs": [
    {
     "name": "stdout",
     "output_type": "stream",
     "text": [
      "The maximum product of two integers in the list is: 50\n",
      "The maximum product of two integers in the list is: 20\n",
      "The maximum product of two integers in the list is: 12\n"
     ]
    }
   ],
   "source": [
    "def max_product_of_two(numbers):\n",
    "    if len(numbers) < 2:\n",
    "        raise ValueError(\"The list must contain at least two numbers\")\n",
    "\n",
    "    numbers.sort()\n",
    "\n",
    "    max_product = max(numbers[0] * numbers[1], numbers[-1] * numbers[-2])\n",
    "    \n",
    "    return max_product\n",
    "\n",
    "numbers = [1, 10, -5, -10, 0, 2]\n",
    "print(f\"The maximum product of two integers in the list is: {max_product_of_two(numbers)}\")\n",
    "\n",
    "numbers = [3, 5, 1, 2, 4]\n",
    "print(f\"The maximum product of two integers in the list is: {max_product_of_two(numbers)}\")\n",
    "\n",
    "numbers = [-1, -2, -3, -4]\n",
    "print(f\"The maximum product of two integers in the list is: {max_product_of_two(numbers)}\")\n"
   ]
  },
  {
   "cell_type": "markdown",
   "id": "edbd2f28-14cf-4fd4-8cec-a0da613e8483",
   "metadata": {},
   "source": [
    "--------------------------------------------------------------------------------------------------------------------------------------------"
   ]
  },
  {
   "cell_type": "markdown",
   "id": "077916a3-292e-4061-9d71-fee58f5378da",
   "metadata": {},
   "source": [
    "--------------------------------------------------------------------------------------------------------------------------------------------"
   ]
  },
  {
   "cell_type": "markdown",
   "id": "d4c7a647-58ac-40c6-963d-1b34952f2cd1",
   "metadata": {},
   "source": [
    "--------------------------------------------------------------------------------------------------------------------------------------------"
   ]
  },
  {
   "cell_type": "code",
   "execution_count": null,
   "id": "15b8008f-55cb-416d-983c-584f6f43f1f4",
   "metadata": {},
   "outputs": [],
   "source": []
  }
 ],
 "metadata": {
  "kernelspec": {
   "display_name": "Python 3 (ipykernel)",
   "language": "python",
   "name": "python3"
  },
  "language_info": {
   "codemirror_mode": {
    "name": "ipython",
    "version": 3
   },
   "file_extension": ".py",
   "mimetype": "text/x-python",
   "name": "python",
   "nbconvert_exporter": "python",
   "pygments_lexer": "ipython3",
   "version": "3.10.12"
  }
 },
 "nbformat": 4,
 "nbformat_minor": 5
}
